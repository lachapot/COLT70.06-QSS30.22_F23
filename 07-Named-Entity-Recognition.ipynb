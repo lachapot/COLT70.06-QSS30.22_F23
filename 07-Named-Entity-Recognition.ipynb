{
 "cells": [
  {
   "cell_type": "markdown",
   "id": "05be4a9b-dcc5-4988-bd8e-76efcfc20641",
   "metadata": {},
   "source": [
    "# Named Entity Recognition"
   ]
  },
  {
   "cell_type": "markdown",
   "id": "b2df06f6-69ca-4358-93af-a49dc23c5a92",
   "metadata": {},
   "source": [
    "-------------------\n",
    "**Contents of this notebook**\n",
    "\n",
    "[Finding all named entities in a document](#section-1)\n",
    "\n",
    "[Finding the most frequent Named Entities of a given type](#section-2)\n",
    "\n",
    "[Finding sentences that contain a givan Named Entity keyword](#section-3)\n",
    "\n",
    "[Tuning the Named Entity Recognizer](#section-4)\n",
    "\n",
    "-------------------"
   ]
  },
  {
   "cell_type": "markdown",
   "id": "bb3c87c1-e1b8-4069-b79d-0eb6d3a80fc4",
   "metadata": {},
   "source": [
    "In this notebook, we're going to use spaCy to find Named Entities in a text."
   ]
  },
  {
   "cell_type": "code",
   "execution_count": null,
   "id": "b6483b86-c887-429c-ae23-f2eecfd22692",
   "metadata": {
    "scrolled": true,
    "tags": []
   },
   "outputs": [],
   "source": [
    "#Import the libraries we need\n",
    "import spacy\n",
    "from collections import Counter\n",
    "\n",
    "#Download the language model you're interested in\n",
    "!python -m spacy download en_core_web_md"
   ]
  },
  {
   "cell_type": "code",
   "execution_count": null,
   "id": "685a6cbf-83a5-47c3-9e8f-78d36bfc904d",
   "metadata": {},
   "outputs": [],
   "source": [
    "#Load language model\n",
    "nlp = spacy.load('en_core_web_md')"
   ]
  },
  {
   "cell_type": "code",
   "execution_count": null,
   "id": "c9f5f7f5-365a-45f4-9000-cf02e8a67032",
   "metadata": {},
   "outputs": [],
   "source": [
    "#Create spaCy document\n",
    "text = open('soderberg-corpus/1897_Drizzle.txt', encoding='utf-8').read()\n",
    "document = nlp(text)"
   ]
  },
  {
   "cell_type": "markdown",
   "id": "55cf2c2a-6adc-4797-acda-862889a9c4fe",
   "metadata": {},
   "source": [
    "<a id='section-1'></a>\n",
    "#### Finding all named entities in a document"
   ]
  },
  {
   "cell_type": "code",
   "execution_count": null,
   "id": "833d5d66-f3f2-41f9-84be-73316a70c02f",
   "metadata": {
    "scrolled": true,
    "tags": []
   },
   "outputs": [],
   "source": [
    "# We can use `.ents` to pull out all the Named Entities spaCy reocgnizes in the document\n",
    "document.ents"
   ]
  },
  {
   "cell_type": "code",
   "execution_count": null,
   "id": "45d6cece-1603-4c7f-a9d6-25ae4e0af0f5",
   "metadata": {
    "scrolled": true,
    "tags": []
   },
   "outputs": [],
   "source": [
    "#Get Named Entities and their label\n",
    "for named_entity in document.ents:\n",
    "    print(named_entity, named_entity.label_)"
   ]
  },
  {
   "cell_type": "code",
   "execution_count": null,
   "id": "55668f0b-cbca-4cc8-8049-906102a6ab13",
   "metadata": {
    "scrolled": true,
    "tags": []
   },
   "outputs": [],
   "source": [
    "#Visualize all the Named Entities using displacy\n",
    "from spacy import displacy\n",
    "displacy.render(document, style=\"ent\")"
   ]
  },
  {
   "cell_type": "code",
   "execution_count": null,
   "id": "e1a23756-56f0-4b29-a658-9953fd6f802e",
   "metadata": {},
   "outputs": [],
   "source": [
    "#Get only Named Entities of a certain type (e.g. people with PERSON)\n",
    "for named_entity in document.ents:\n",
    "    if named_entity.label_ == 'PERSON':\n",
    "        print(named_entity)"
   ]
  },
  {
   "cell_type": "markdown",
   "id": "3630e14d-9f18-43ef-9fd3-b9e1163a26ef",
   "metadata": {},
   "source": [
    "<a id='section-2'></a>\n",
    "#### Finding the most frequent Named Entities of a given type"
   ]
  },
  {
   "cell_type": "code",
   "execution_count": null,
   "id": "1de04cfb-9155-408c-a99b-bbf67479c309",
   "metadata": {},
   "outputs": [],
   "source": [
    "#Define a function that finds Named Entities of a given label \n",
    "def find_most_frequent_NE(doc, NE_label=None):\n",
    "    \n",
    "    named_entities = []\n",
    "    \n",
    "    for named_entity in document.ents:\n",
    "        if named_entity.label_ == NE_label or NE_label == None:\n",
    "            named_entities.append(named_entity.text)        \n",
    "    return(Counter(named_entities).most_common())"
   ]
  },
  {
   "cell_type": "code",
   "execution_count": null,
   "id": "2eb2113d-d475-4473-943d-e03eab83d4ec",
   "metadata": {},
   "outputs": [],
   "source": [
    "#Call your function for a given NE (e.g. PERSON, or DATE or TIME)\n",
    "find_most_frequent_NE(document, NE_label='DATE')"
   ]
  },
  {
   "cell_type": "markdown",
   "id": "d15124eb-8c8e-4647-8925-914b674b7a7f",
   "metadata": {},
   "source": [
    "<a id='section-3'></a>\n",
    "#### Finding sentences that contain a givan Named Entity keyword"
   ]
  },
  {
   "cell_type": "markdown",
   "id": "a555f95c-3ff2-46de-9675-0bfa145c34db",
   "metadata": {},
   "source": [
    "And find all sentences that contain a given keyword and the associated NER label for that keyword in that sentence."
   ]
  },
  {
   "cell_type": "code",
   "execution_count": null,
   "id": "10c19457-fa19-495a-a948-3012e83f184f",
   "metadata": {},
   "outputs": [],
   "source": [
    "from IPython.display import Markdown, display\n",
    "import re\n",
    "\n",
    "def get_ner_in_context(keyword, document, desired_ner_labels= False):\n",
    "    \n",
    "    if desired_ner_labels != False:\n",
    "        desired_ner_labels = desired_ner_labels\n",
    "    else:\n",
    "        desired_ner_labels = ['PERSON', 'NORP', 'FAC', 'ORG', 'GPE', 'LOC', 'PRODUCT', 'EVENT', 'WORK_OF_ART', 'LAW', 'LANGUAGE', 'DATE', 'TIME', 'PERCENT', 'MONEY', 'QUANTITY', 'ORDINAL', 'CARDINAL']  \n",
    "        \n",
    "    #Iterate through all the sentences in the document and pull out the text of each sentence\n",
    "    for sentence in document.sents:\n",
    "        #process each sentence\n",
    "        sentence_doc = nlp(sentence.text)\n",
    "        for named_entity in sentence_doc.ents:\n",
    "            #Check to see if the keyword is in the sentence (and ignore capitalization by making both lowercase)\n",
    "            if keyword.lower() in named_entity.text.lower()  and named_entity.label_ in desired_ner_labels:\n",
    "                #Use the regex library to replace linebreaks and to make the keyword bolded, again ignoring capitalization\n",
    "                #sentence_text = sentence.text\n",
    "            \n",
    "                sentence_text = re.sub('\\n', ' ', sentence.text)\n",
    "                sentence_text = re.sub(f\"{named_entity.text}\", f\"**{named_entity.text}**\", sentence_text, flags=re.IGNORECASE)\n",
    "\n",
    "                display(Markdown('---'))\n",
    "                display(Markdown(f\"**{named_entity.label_}**\"))\n",
    "                display(Markdown(sentence_text))"
   ]
  },
  {
   "cell_type": "code",
   "execution_count": null,
   "id": "a90918ac-e27e-487a-9db1-0e3874e608de",
   "metadata": {},
   "outputs": [],
   "source": [
    "get_ner_in_context('autumn', document)"
   ]
  },
  {
   "cell_type": "markdown",
   "id": "7236c866-3cf0-4a48-97f7-ea533179c0c9",
   "metadata": {},
   "source": [
    "<a id='section-4'></a>\n",
    "#### Tuning the Named Entity Recognizer"
   ]
  },
  {
   "cell_type": "markdown",
   "id": "750b64d3-65d6-448f-8ad4-a473034a0797",
   "metadata": {},
   "source": [
    "We're going to use the `EntityRuler` to customize the Named Entity Recognizer. "
   ]
  },
  {
   "cell_type": "markdown",
   "id": "90006d5c-90c5-40a6-8e1c-575c7ee85b45",
   "metadata": {},
   "source": [
    "The `EntityRuler` allows us to create a set of patterns with corresponding labels. Once we have created the`EntityRuler` and given it a set of instructions/patterns, we can then add it to the spaCy pipeline as a new pipe. Below shows how to add an `EntityRuler` pipeline component to the nlp pipeline."
   ]
  },
  {
   "cell_type": "code",
   "execution_count": null,
   "id": "8e263f6b-8087-46bb-a9fe-6cad1fb0cff1",
   "metadata": {
    "scrolled": true,
    "tags": []
   },
   "outputs": [],
   "source": [
    "#Import the libraries we need\n",
    "import spacy\n",
    "\n",
    "#Download the language model you're interested in\n",
    "!python -m spacy download en_core_web_md"
   ]
  },
  {
   "cell_type": "code",
   "execution_count": null,
   "id": "f82e06ce-ccee-43fd-b53b-6216f3983dbe",
   "metadata": {},
   "outputs": [],
   "source": [
    "#Load language model\n",
    "nlp = spacy.load('en_core_web_md')"
   ]
  },
  {
   "cell_type": "code",
   "execution_count": null,
   "id": "034f275c-930d-431d-b64a-e5941ee461a7",
   "metadata": {},
   "outputs": [],
   "source": [
    "text = open('soderberg-corpus/1897_Drizzle.txt', encoding='utf-8').read()"
   ]
  },
  {
   "cell_type": "code",
   "execution_count": null,
   "id": "f259b399-6e3e-47c7-b33d-60d19a5fd4f1",
   "metadata": {},
   "outputs": [],
   "source": [
    "document = nlp(text)"
   ]
  },
  {
   "cell_type": "code",
   "execution_count": null,
   "id": "1ac2e1d9-32e9-45c5-b5a9-d21f06fa0efd",
   "metadata": {
    "scrolled": true,
    "tags": []
   },
   "outputs": [],
   "source": [
    "#Get Named Entities and their label\n",
    "for named_entity in document.ents:\n",
    "    print(named_entity, named_entity.label_)"
   ]
  },
  {
   "cell_type": "markdown",
   "id": "e18effd2-819c-4388-9dc9-6d8c54473074",
   "metadata": {},
   "source": [
    "I want to add some characters in the story (the Devil, the Lord, etc.) to the NER that are currently not recognized as PERSONs."
   ]
  },
  {
   "cell_type": "code",
   "execution_count": null,
   "id": "1656bdd3-fd5b-46dd-980a-ee9b67cdf342",
   "metadata": {},
   "outputs": [],
   "source": [
    "#Create the EntityRuler\n",
    "ruler = nlp.add_pipe(\"entity_ruler\", before=\"ner\")\n",
    "\n",
    "#List of Entities and Patterns\n",
    "patterns = [\n",
    "                {\"label\": \"PERSON\", \"pattern\": \"Devil\"},\n",
    "    {\"label\": \"PERSON\", \"pattern\": \"Lord\"},\n",
    "    {\"label\": \"PERSON\", \"pattern\": \"the good Lord\"},\n",
    "    {\"label\": \"PERSON\", \"pattern\": \"God\"}\n",
    "            ]\n",
    "\n",
    "#Add patterns to the ruler\n",
    "ruler.add_patterns(patterns)"
   ]
  },
  {
   "cell_type": "code",
   "execution_count": null,
   "id": "af633e29-aed2-47ec-8fee-0a6af0d9fb64",
   "metadata": {
    "scrolled": true,
    "tags": []
   },
   "outputs": [],
   "source": [
    "#Create new spaCy document to check updated Named Entities\n",
    "document = nlp(text)\n",
    "    \n",
    "#Get Named Entities and their label\n",
    "for named_entity in document.ents:\n",
    "    print(named_entity.text, named_entity.label_)"
   ]
  },
  {
   "cell_type": "markdown",
   "id": "5af697a4-882d-4e8d-bd56-a86422d27026",
   "metadata": {},
   "source": [
    "Most frequent Named Entities for a given Named Entity"
   ]
  },
  {
   "cell_type": "code",
   "execution_count": null,
   "id": "0240cd91-fa45-4627-a2c2-c81bc0f3d518",
   "metadata": {},
   "outputs": [],
   "source": [
    "#Count the most frequent entities for a given Named Entity\n",
    "\n",
    "named_entities = []\n",
    "\n",
    "for named_entity in document.ents:\n",
    "    if named_entity.label_ == 'PERSON':\n",
    "        named_entities.append(named_entity.text)\n",
    "\n",
    "entity_tally = Counter(named_entities)\n",
    "most_frequent_entities = entity_tally.most_common()\n",
    "most_frequent_entities"
   ]
  },
  {
   "cell_type": "markdown",
   "id": "5af9f060-77f7-4f45-8f42-addcc6d48d20",
   "metadata": {},
   "source": [
    "_Acknowledgements_: This notebook is inspired by Melanie Walsh’s [_Introduction to Cultural Analytics & Python_](https://melaniewalsh.github.io/Intro-Cultural-Analytics/05-Text-Analysis/12-Named-Entity-Recognition.html) and William Mattingly's [Introduction to spaCy](https://github.com/wjbmattingly/tap-2023-spacy-01/tree/main)."
   ]
  }
 ],
 "metadata": {
  "kernelspec": {
   "display_name": "Python 3 (ipykernel)",
   "language": "python",
   "name": "python3"
  },
  "language_info": {
   "codemirror_mode": {
    "name": "ipython",
    "version": 3
   },
   "file_extension": ".py",
   "mimetype": "text/x-python",
   "name": "python",
   "nbconvert_exporter": "python",
   "pygments_lexer": "ipython3",
   "version": "3.9.16"
  }
 },
 "nbformat": 4,
 "nbformat_minor": 5
}
