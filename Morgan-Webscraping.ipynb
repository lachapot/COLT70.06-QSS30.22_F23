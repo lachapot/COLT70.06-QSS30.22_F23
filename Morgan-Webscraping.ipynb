{
 "cells": [
  {
   "cell_type": "markdown",
   "id": "d9c38696-4842-488f-9d11-43418224c628",
   "metadata": {},
   "source": [
    "## Morgan Webscraping Notebook"
   ]
  },
  {
   "cell_type": "code",
   "execution_count": 22,
   "id": "17217f12-16f3-4c8c-8148-315b7f9c8d54",
   "metadata": {
    "scrolled": true,
    "tags": []
   },
   "outputs": [
    {
     "data": {
      "text/plain": [
       "[<span aria-level=\"4\" itemprop=\"name\" role=\"heading\">Alice's Adventures in Wonderland / Through the Looking-Glass</span>,\n",
       " <span aria-level=\"4\" itemprop=\"name\" role=\"heading\">The Tale of Peter Rabbit</span>,\n",
       " <span aria-level=\"4\" itemprop=\"name\" role=\"heading\">Little Women</span>,\n",
       " <span aria-level=\"4\" itemprop=\"name\" role=\"heading\">A Little Princess</span>,\n",
       " <span aria-level=\"4\" itemprop=\"name\" role=\"heading\">The Wonderful Wizard of Oz (Oz, #1)</span>,\n",
       " <span aria-level=\"4\" itemprop=\"name\" role=\"heading\">The Adventures of Tom Sawyer</span>,\n",
       " <span aria-level=\"4\" itemprop=\"name\" role=\"heading\">Treasure Island</span>,\n",
       " <span aria-level=\"4\" itemprop=\"name\" role=\"heading\">Black Beauty</span>,\n",
       " <span aria-level=\"4\" itemprop=\"name\" role=\"heading\">The Jungle Books</span>,\n",
       " <span aria-level=\"4\" itemprop=\"name\" role=\"heading\">The Complete Grimm's Fairy Tales</span>,\n",
       " <span aria-level=\"4\" itemprop=\"name\" role=\"heading\">Little Red Riding Hood</span>,\n",
       " <span aria-level=\"4\" itemprop=\"name\" role=\"heading\">Little Men</span>,\n",
       " <span aria-level=\"4\" itemprop=\"name\" role=\"heading\">A Child's Garden of Verses</span>,\n",
       " <span aria-level=\"4\" itemprop=\"name\" role=\"heading\">The Prince and the Pauper</span>,\n",
       " <span aria-level=\"4\" itemprop=\"name\" role=\"heading\">The Complete Fairy Tales</span>,\n",
       " <span aria-level=\"4\" itemprop=\"name\" role=\"heading\">At the Back of the North Wind (Books of Wonder)</span>,\n",
       " <span aria-level=\"4\" itemprop=\"name\" role=\"heading\">The Complete Fairy Tales</span>,\n",
       " <span aria-level=\"4\" itemprop=\"name\" role=\"heading\">Rose in Bloom (Eight Cousins, #2)</span>,\n",
       " <span aria-level=\"4\" itemprop=\"name\" role=\"heading\">Through the Looking-Glass and What Alice Found There (Alice's Adventures in Wonderland, #2)</span>,\n",
       " <span aria-level=\"4\" itemprop=\"name\" role=\"heading\">Rapunzel</span>,\n",
       " <span aria-level=\"4\" itemprop=\"name\" role=\"heading\">The Twelve Dancing Princesses</span>,\n",
       " <span aria-level=\"4\" itemprop=\"name\" role=\"heading\">Kidnapped (David Balfour, #1)</span>,\n",
       " <span aria-level=\"4\" itemprop=\"name\" role=\"heading\">The Pied Piper of Hamelin</span>,\n",
       " <span aria-level=\"4\" itemprop=\"name\" role=\"heading\">The Light Princess</span>,\n",
       " <span aria-level=\"4\" itemprop=\"name\" role=\"heading\">Eight Cousins (Eight Cousins, #1)</span>,\n",
       " <span aria-level=\"4\" itemprop=\"name\" role=\"heading\">Jo's Boys</span>,\n",
       " <span aria-level=\"4\" itemprop=\"name\" role=\"heading\">A Book of Nonsense</span>,\n",
       " <span aria-level=\"4\" itemprop=\"name\" role=\"heading\">The Green Fairy Book</span>,\n",
       " <span aria-level=\"4\" itemprop=\"name\" role=\"heading\">Little Lord Fauntleroy</span>,\n",
       " <span aria-level=\"4\" itemprop=\"name\" role=\"heading\">The Blue Fairy Book</span>,\n",
       " <span aria-level=\"4\" itemprop=\"name\" role=\"heading\">The Owl and the Pussycat</span>,\n",
       " <span aria-level=\"4\" itemprop=\"name\" role=\"heading\">Captains Courageous</span>,\n",
       " <span aria-level=\"4\" itemprop=\"name\" role=\"heading\">Goblin Market: A Tale of Two Sisters</span>,\n",
       " <span aria-level=\"4\" itemprop=\"name\" role=\"heading\">Hansel and Gretel</span>,\n",
       " <span aria-level=\"4\" itemprop=\"name\" role=\"heading\">Kim</span>,\n",
       " <span aria-level=\"4\" itemprop=\"name\" role=\"heading\">The Elephant's Child</span>,\n",
       " <span aria-level=\"4\" itemprop=\"name\" role=\"heading\">The Elves and the Shoemaker</span>,\n",
       " <span aria-level=\"4\" itemprop=\"name\" role=\"heading\">Mother Goose</span>,\n",
       " <span aria-level=\"4\" itemprop=\"name\" role=\"heading\">Tanglewood Tales: A Wonder-Book for Girls and Boys</span>,\n",
       " <span aria-level=\"4\" itemprop=\"name\" role=\"heading\">Rumpelstiltskin</span>,\n",
       " <span aria-level=\"4\" itemprop=\"name\" role=\"heading\">Uncle Remus: His Songs and His Sayings</span>,\n",
       " <span aria-level=\"4\" itemprop=\"name\" role=\"heading\">The Light Princess and Other Fairy Stories</span>,\n",
       " <span aria-level=\"4\" itemprop=\"name\" role=\"heading\">The Story of the Amulet (Five Children, #3)</span>,\n",
       " <span aria-level=\"4\" itemprop=\"name\" role=\"heading\">Rose Red and Snow White: A Grimms Fairy Tale</span>,\n",
       " <span aria-level=\"4\" itemprop=\"name\" role=\"heading\">The Coral Island</span>,\n",
       " <span aria-level=\"4\" itemprop=\"name\" role=\"heading\">Complete Nonsense of Edward Lear</span>,\n",
       " <span aria-level=\"4\" itemprop=\"name\" role=\"heading\">The Black Arrow</span>,\n",
       " <span aria-level=\"4\" itemprop=\"name\" role=\"heading\">The Frog Prince (We Both Read - Level 1-2)</span>,\n",
       " <span aria-level=\"4\" itemprop=\"name\" role=\"heading\">The Red Fairy Book</span>,\n",
       " <span aria-level=\"4\" itemprop=\"name\" role=\"heading\">The Yellow Fairy Book</span>,\n",
       " <span aria-level=\"4\" itemprop=\"name\" role=\"heading\">The Frog Prince, Continued</span>,\n",
       " <span aria-level=\"4\" itemprop=\"name\" role=\"heading\">Cinderella</span>,\n",
       " <span aria-level=\"4\" itemprop=\"name\" role=\"heading\">Grimms' Fairy Tales and Andersen's Fairy Tales</span>,\n",
       " <span aria-level=\"4\" itemprop=\"name\" role=\"heading\">How The Camel Got His Hump</span>,\n",
       " <span aria-level=\"4\" itemprop=\"name\" role=\"heading\">How The Leopard Got His Spots (Rabbit Ears Books)</span>,\n",
       " <span aria-level=\"4\" itemprop=\"name\" role=\"heading\">How the Elephant Got Its Trunk: A Retelling of the Rudyard Kipling Tale</span>,\n",
       " <span aria-level=\"4\" itemprop=\"name\" role=\"heading\">Rudyard Kipling: The Jungle Book, The Second Jungle Book, Just So Stories, Puck of Pook's Hill, Stalky &amp; Co., Kim</span>,\n",
       " <span aria-level=\"4\" itemprop=\"name\" role=\"heading\">The Golden Age</span>,\n",
       " <span aria-level=\"4\" itemprop=\"name\" role=\"heading\">Dream Days</span>,\n",
       " <span aria-level=\"4\" itemprop=\"name\" role=\"heading\">Wood Magic</span>,\n",
       " <span aria-level=\"4\" itemprop=\"name\" role=\"heading\">The Madman and the Pirate</span>,\n",
       " <span aria-level=\"4\" itemprop=\"name\" role=\"heading\">The Golden Dream: Adventures in the Far West</span>,\n",
       " <span aria-level=\"4\" itemprop=\"name\" role=\"heading\">Goose Girl</span>]"
      ]
     },
     "execution_count": 22,
     "metadata": {},
     "output_type": "execute_result"
    }
   ],
   "source": [
    "#imports\n",
    "import requests\n",
    "from bs4 import BeautifulSoup\n",
    "\n",
    "#Specify the webpage you want and the tag for the titles (using \"Inspect Elements\"\n",
    "response = requests.get('https://www.goodreads.com/list/show/6965.Best_Victorian_Children_s_BooksD')\n",
    "\n",
    "document = BeautifulSoup(response.text, 'html.parser')\n",
    "\n",
    "#For example in Goodreads the lable is <span aria-level=\"4\" itemprop=\"name\" role=\"heading\">\n",
    "#you'd write it like this\n",
    "all_titles = document.find_all('span', {'aria-level': '4', 'itemprop': 'name', 'role': 'heading'})\n",
    "all_titles"
   ]
  },
  {
   "cell_type": "code",
   "execution_count": 23,
   "id": "86b2c1cc-321c-4407-b6cc-5f130fc49808",
   "metadata": {
    "scrolled": true,
    "tags": []
   },
   "outputs": [
    {
     "data": {
      "text/plain": [
       "[\"Alice's Adventures in Wonderland / Through the Looking-Glass\",\n",
       " 'The Tale of Peter Rabbit',\n",
       " 'Little Women',\n",
       " 'A Little Princess',\n",
       " 'The Wonderful Wizard of Oz (Oz, #1)',\n",
       " 'The Adventures of Tom Sawyer',\n",
       " 'Treasure Island',\n",
       " 'Black Beauty',\n",
       " 'The Jungle Books',\n",
       " \"The Complete Grimm's Fairy Tales\",\n",
       " 'Little Red Riding Hood',\n",
       " 'Little Men',\n",
       " \"A Child's Garden of Verses\",\n",
       " 'The Prince and the Pauper',\n",
       " 'The Complete Fairy Tales',\n",
       " 'At the Back of the North Wind (Books of Wonder)',\n",
       " 'The Complete Fairy Tales',\n",
       " 'Rose in Bloom (Eight Cousins, #2)',\n",
       " \"Through the Looking-Glass and What Alice Found There (Alice's Adventures in Wonderland, #2)\",\n",
       " 'Rapunzel',\n",
       " 'The Twelve Dancing Princesses',\n",
       " 'Kidnapped (David Balfour, #1)',\n",
       " 'The Pied Piper of Hamelin',\n",
       " 'The Light Princess',\n",
       " 'Eight Cousins (Eight Cousins, #1)',\n",
       " \"Jo's Boys\",\n",
       " 'A Book of Nonsense',\n",
       " 'The Green Fairy Book',\n",
       " 'Little Lord Fauntleroy',\n",
       " 'The Blue Fairy Book',\n",
       " 'The Owl and the Pussycat',\n",
       " 'Captains Courageous',\n",
       " 'Goblin Market: A Tale of Two Sisters',\n",
       " 'Hansel and Gretel',\n",
       " 'Kim',\n",
       " \"The Elephant's Child\",\n",
       " 'The Elves and the Shoemaker',\n",
       " 'Mother Goose',\n",
       " 'Tanglewood Tales: A Wonder-Book for Girls and Boys',\n",
       " 'Rumpelstiltskin',\n",
       " 'Uncle Remus: His Songs and His Sayings',\n",
       " 'The Light Princess and Other Fairy Stories',\n",
       " 'The Story of the Amulet (Five Children, #3)',\n",
       " 'Rose Red and Snow White: A Grimms Fairy Tale',\n",
       " 'The Coral Island',\n",
       " 'Complete Nonsense of Edward Lear',\n",
       " 'The Black Arrow',\n",
       " 'The Frog Prince (We Both Read - Level 1-2)',\n",
       " 'The Red Fairy Book',\n",
       " 'The Yellow Fairy Book',\n",
       " 'The Frog Prince, Continued',\n",
       " 'Cinderella',\n",
       " \"Grimms' Fairy Tales and Andersen's Fairy Tales\",\n",
       " 'How The Camel Got His Hump',\n",
       " 'How The Leopard Got His Spots (Rabbit Ears Books)',\n",
       " 'How the Elephant Got Its Trunk: A Retelling of the Rudyard Kipling Tale',\n",
       " \"Rudyard Kipling: The Jungle Book, The Second Jungle Book, Just So Stories, Puck of Pook's Hill, Stalky & Co., Kim\",\n",
       " 'The Golden Age',\n",
       " 'Dream Days',\n",
       " 'Wood Magic',\n",
       " 'The Madman and the Pirate',\n",
       " 'The Golden Dream: Adventures in the Far West',\n",
       " 'Goose Girl']"
      ]
     },
     "execution_count": 23,
     "metadata": {},
     "output_type": "execute_result"
    }
   ],
   "source": [
    "#Create an empty list called titles\n",
    "#Creat a for loop:\n",
    "#for each title in all_titles (above), \n",
    "#we will grab only the .text, \n",
    "#put it into a variable called titles_contents, \n",
    "#then .append() it to our titles list.\n",
    "#You end up with just the titles\n",
    "titles = []\n",
    "for title in all_titles:\n",
    "    title_contents = title.text\n",
    "    titles.append(title_contents)\n",
    "titles"
   ]
  },
  {
   "cell_type": "code",
   "execution_count": 18,
   "id": "d2cd4266-2523-4161-8f93-7777bddadeb4",
   "metadata": {},
   "outputs": [],
   "source": [
    "#Write out your results to a file\n",
    "\n",
    "# Specify the file name\n",
    "file_name = 'GoodReads_Victorian.txt'\n",
    "\n",
    "#Loop through your titles list adding a new line after each title\n",
    "with open(file_name, mode='w') as file:\n",
    "    for t in titles: \n",
    "        file.write(t + '\\n')"
   ]
  }
 ],
 "metadata": {
  "kernelspec": {
   "display_name": "Python 3 (ipykernel)",
   "language": "python",
   "name": "python3"
  },
  "language_info": {
   "codemirror_mode": {
    "name": "ipython",
    "version": 3
   },
   "file_extension": ".py",
   "mimetype": "text/x-python",
   "name": "python",
   "nbconvert_exporter": "python",
   "pygments_lexer": "ipython3",
   "version": "3.10.6"
  }
 },
 "nbformat": 4,
 "nbformat_minor": 5
}
