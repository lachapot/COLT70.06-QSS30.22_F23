{
 "cells": [
  {
   "cell_type": "markdown",
   "id": "d9c38696-4842-488f-9d11-43418224c628",
   "metadata": {},
   "source": [
    "## Morgan Webscraping Notebook"
   ]
  },
  {
   "cell_type": "markdown",
   "id": "0fa56dc1-4137-438f-8285-090bf52ac7cf",
   "metadata": {},
   "source": [
    "### Collecting titles from one webpage"
   ]
  },
  {
   "cell_type": "code",
   "execution_count": null,
   "id": "17217f12-16f3-4c8c-8148-315b7f9c8d54",
   "metadata": {
    "scrolled": true,
    "tags": []
   },
   "outputs": [],
   "source": [
    "#imports\n",
    "import requests\n",
    "from bs4 import BeautifulSoup\n",
    "\n",
    "#Specify the webpage you want and the tag for the titles (using \"Inspect Elements\"\n",
    "response = requests.get('https://www.goodreads.com/list/show/6965.Best_Victorian_Children_s_BooksD')\n",
    "\n",
    "document = BeautifulSoup(response.text, 'html.parser')\n",
    "\n",
    "#For example in Goodreads the lable is <span aria-level=\"4\" itemprop=\"name\" role=\"heading\">\n",
    "#you'd write it like this\n",
    "all_titles = document.find_all('span', {'aria-level': '4', 'itemprop': 'name', 'role': 'heading'})\n",
    "all_titles"
   ]
  },
  {
   "cell_type": "code",
   "execution_count": null,
   "id": "86b2c1cc-321c-4407-b6cc-5f130fc49808",
   "metadata": {
    "scrolled": true,
    "tags": []
   },
   "outputs": [],
   "source": [
    "#Create an empty list called titles\n",
    "#Creat a for loop:\n",
    "#for each title in all_titles (above), \n",
    "#we will grab only the .text, \n",
    "#put it into a variable called titles_contents, \n",
    "#then .append() it to our titles list.\n",
    "#You end up with just the titles\n",
    "titles = []\n",
    "for title in all_titles:\n",
    "    title_contents = title.text\n",
    "    titles.append(title_contents)\n",
    "titles"
   ]
  },
  {
   "cell_type": "code",
   "execution_count": null,
   "id": "d2cd4266-2523-4161-8f93-7777bddadeb4",
   "metadata": {},
   "outputs": [],
   "source": [
    "#Write out your results to a file\n",
    "\n",
    "# Specify the file name\n",
    "file_name = 'GoodReads_Victorian.txt'\n",
    "\n",
    "#Loop through your titles list adding a new line after each title\n",
    "with open(file_name, mode='w') as file:\n",
    "    for t in titles: \n",
    "        file.write(t + '\\n')"
   ]
  },
  {
   "cell_type": "markdown",
   "id": "bb463c89-f34e-42a4-8eaa-1e10735a19eb",
   "metadata": {},
   "source": [
    "## Scraping titles using a list of webpages"
   ]
  },
  {
   "cell_type": "code",
   "execution_count": null,
   "id": "6109da35-869f-4273-a633-a9e187cae371",
   "metadata": {},
   "outputs": [],
   "source": [
    "#Extracting text from multiple URLs by specifying the URLs \n",
    "import requests\n",
    "from bs4 import BeautifulSoup\n",
    "\n",
    "#Make a list of the URLs you want\n",
    "URLs_to_visit = [\n",
    "\"https://litkidz.com/listen-slowly_childrens_book\", \n",
    "\"https://litkidz.com/the-engineer-and-the-vaccine_childrens_book\", \n",
    "\"https://litkidz.com/echo-mountain_childrens_book\"\n",
    "]\n",
    "\n",
    "# A for loop that loops through links\n",
    "#and extract specifed text\n",
    "for i in range(len(URLs_to_visit)):\n",
    "    URL = URLs_to_visit[i]\n",
    "    response = requests.get(URL)\n",
    "    document = BeautifulSoup(response.text, \"html.parser\")\n",
    "    \n",
    "    #change the label here for each website\n",
    "    result = document.find_all('h1', {'class': 'entry-title post-title responsive', 'itemprop': 'headline'})\n",
    "\n",
    "    # Specify the file name you want\n",
    "    file_name = 'Litkidz.txt'\n",
    "    \n",
    "    #Appends each title from result to the file\n",
    "    with open(file_name, mode='a') as file:\n",
    "        for r in result: \n",
    "            file.write(r.text + '\\n')"
   ]
  }
 ],
 "metadata": {
  "kernelspec": {
   "display_name": "Python 3 (ipykernel)",
   "language": "python",
   "name": "python3"
  },
  "language_info": {
   "codemirror_mode": {
    "name": "ipython",
    "version": 3
   },
   "file_extension": ".py",
   "mimetype": "text/x-python",
   "name": "python",
   "nbconvert_exporter": "python",
   "pygments_lexer": "ipython3",
   "version": "3.10.6"
  }
 },
 "nbformat": 4,
 "nbformat_minor": 5
}
